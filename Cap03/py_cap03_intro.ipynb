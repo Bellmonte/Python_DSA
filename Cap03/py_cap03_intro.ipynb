{
 "cells": [
  {
   "cell_type": "code",
   "execution_count": 1,
   "metadata": {},
   "outputs": [
    {
     "name": "stdout",
     "output_type": "stream",
     "text": [
      "Versão da Linguagem Python Usada Neste Jupyter Notebook: 3.9.13\n"
     ]
    }
   ],
   "source": [
    "# Versão da Linguagem Python\n",
    "from platform import python_version\n",
    "print('Versão da Linguagem Python Usada Neste Jupyter Notebook:', python_version())"
   ]
  },
  {
   "cell_type": "markdown",
   "metadata": {},
   "source": [
    "## Lab 1 - Calcular a Área de Um Paralelograma"
   ]
  },
  {
   "cell_type": "code",
   "execution_count": 1,
   "metadata": {},
   "outputs": [
    {
     "name": "stdout",
     "output_type": "stream",
     "text": [
      "Bem-vindo ao Calculador de Área de Paralelogramo\n",
      "A área do paralelogramo é:  10.0\n"
     ]
    }
   ],
   "source": [
    "print(\"Bem-vindo ao Calculador de Área de Paralelogramo\")\n",
    "\n",
    "base    = float(input(\"Insira o comprimento da base: \"))\n",
    "altura  = float(input(\"Insira a altura: \"))\n",
    "\n",
    "area    = base * altura\n",
    "\n",
    "print(\"A área do paralelogramo é: \", area)"
   ]
  },
  {
   "cell_type": "markdown",
   "metadata": {},
   "source": [
    "## Lab 2 - Calculadora Simples"
   ]
  },
  {
   "cell_type": "code",
   "execution_count": 6,
   "metadata": {},
   "outputs": [
    {
     "name": "stdout",
     "output_type": "stream",
     "text": [
      "Bem-vindo à Calculadora\n",
      "Primeiro número:  2.0\n",
      "Operação:  *\n",
      "Segundo número:  2.0\n",
      "O resultado é: 4.0\n"
     ]
    }
   ],
   "source": [
    "print(\"Bem-vindo à Calculadora\")\n",
    "\n",
    "num1        = float(input(\"Insira o primeiro número: \"))\n",
    "operacao    = input(\"Selecione uma operação (+, -, *, /): \")\n",
    "num2        = float(input(\"Insira o segundo número: \"))\n",
    "\n",
    "print(\"Primeiro número: \", num1)\n",
    "print(\"Operação: \", operacao)\n",
    "print(\"Segundo número: \", num2)\n",
    "\n",
    "operacoes = {\n",
    "    '+': num1 + num2,\n",
    "    '-': num1 - num2,\n",
    "    '*': num1 * num2,\n",
    "    '/': num1 / num2,\n",
    "}\n",
    "\n",
    "resultado = operacoes.get(operacao)\n",
    "\n",
    "if resultado is not None:\n",
    "    print(\"O resultado é:\", resultado)\n",
    "else:\n",
    "    print(\"Operação inválida.\")\n"
   ]
  },
  {
   "cell_type": "markdown",
   "metadata": {},
   "source": [
    "## Lab 3 - Algoritmo Bubble Sort"
   ]
  },
  {
   "cell_type": "code",
   "execution_count": 12,
   "metadata": {},
   "outputs": [
    {
     "name": "stdout",
     "output_type": "stream",
     "text": [
      "Primeira lista ordenada:  [0, 1, 3, 4, 6, 7, 8, 10, 11, 12, 16, 17, 19, 21, 29, 30, 34, 39, 43, 56, 61, 67, 82]\n",
      "Primeira lista ordenada:  [0, 1, 3, 4, 10, 11, 12, 16, 17, 17, 19, 21, 28, 29, 30, 34, 39, 43, 56, 60, 61, 67, 82]\n"
     ]
    }
   ],
   "source": [
    "# Sem list comprehension.\n",
    "lista   = [6,7,8,3,10,19,4,1,0,61,30,16,17,82,29,34,43,21,11,39,56,67,12]\n",
    "lista2  = [60,17,28,3,10,19,4,1,0,61,30,16,17,82,29,34,43,21,11,39,56,67,12]\n",
    "\n",
    "def bubble_sort(arr):    \n",
    "    n = len(arr)    \n",
    "    for i in range(n):                                  # Para cada elemento i do array     \n",
    "        for j in range(0, n-i-1):                       # Para cada elemento j do array        \n",
    "            if arr[j] > arr[j+1]:                       # Se elemento i for maior que elemento j            \n",
    "                arr[j], arr[j+1] = arr[j+1], arr[j]     # Troque os elementos i e j    \n",
    "    return arr\n",
    "\n",
    "print(\"Primeira lista ordenada: \", bubble_sort(lista))\n",
    "print(\"Primeira lista ordenada: \", bubble_sort(lista2))"
   ]
  }
 ],
 "metadata": {
  "anaconda-cloud": {},
  "kernelspec": {
   "display_name": "Python 3 (ipykernel)",
   "language": "python",
   "name": "python3"
  },
  "language_info": {
   "codemirror_mode": {
    "name": "ipython",
    "version": 3
   },
   "file_extension": ".py",
   "mimetype": "text/x-python",
   "name": "python",
   "nbconvert_exporter": "python",
   "pygments_lexer": "ipython3",
   "version": "0.0.0"
  }
 },
 "nbformat": 4,
 "nbformat_minor": 1
}
