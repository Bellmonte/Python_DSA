{
 "cells": [
  {
   "cell_type": "markdown",
   "metadata": {},
   "source": [
    "## <font color='orange'>Capítulo 4 - Números e Operações Matemáticas</font>"
   ]
  },
  {
   "cell_type": "code",
   "execution_count": 2,
   "metadata": {},
   "outputs": [
    {
     "name": "stdout",
     "output_type": "stream",
     "text": [
      "Versão da Linguagem Python Usada Neste Jupyter Notebook: 3.9.13\n"
     ]
    }
   ],
   "source": [
    "# Versão da Linguagem Python\n",
    "from platform import python_version\n",
    "print('Versão da Linguagem Python Usada Neste Jupyter Notebook:', python_version())"
   ]
  },
  {
   "cell_type": "markdown",
   "metadata": {},
   "source": [
    "### Operações Aritméticas"
   ]
  },
  {
   "cell_type": "code",
   "execution_count": 7,
   "metadata": {},
   "outputs": [
    {
     "name": "stdout",
     "output_type": "stream",
     "text": [
      "Soma(+): 8\n",
      "Subtração(-): 1\n",
      "Multiplicação(*): 9\n",
      "Divisão(/): 1.5\n",
      "Potência(**): 16\n",
      "Módulo(%): 1\n"
     ]
    }
   ],
   "source": [
    "print(\"Soma(+):\",4 + 4)\n",
    "print(\"Subtração(-):\",4 - 3)\n",
    "print(\"Multiplicação(*):\",3 * 3)\n",
    "print(\"Divisão(/):\",3 / 2)\n",
    "print(\"Potência(**):\",4 ** 2)\n",
    "print(\"Módulo(%):\",10 % 3)\n"
   ]
  },
  {
   "cell_type": "markdown",
   "metadata": {},
   "source": [
    "### Função Type"
   ]
  },
  {
   "cell_type": "code",
   "execution_count": 10,
   "metadata": {},
   "outputs": [
    {
     "name": "stdout",
     "output_type": "stream",
     "text": [
      "<class 'int'>\n",
      "<class 'float'>\n",
      "<class 'str'>\n"
     ]
    }
   ],
   "source": [
    "print(type(5))\n",
    "print(type(5.0))\n",
    "print(type(\"Bla Bla Bla\"))"
   ]
  },
  {
   "cell_type": "markdown",
   "metadata": {},
   "source": [
    "### Conversão"
   ]
  },
  {
   "cell_type": "code",
   "execution_count": 18,
   "metadata": {},
   "outputs": [
    {
     "name": "stdout",
     "output_type": "stream",
     "text": [
      "9.0\n",
      "6\n",
      "6\n",
      "6.6\n"
     ]
    }
   ],
   "source": [
    "print(float(9))\n",
    "print(int(6.0))\n",
    "print(int(6.5))\n",
    "print(str(6.6))"
   ]
  },
  {
   "cell_type": "markdown",
   "metadata": {},
   "source": [
    "### Hexadecimal e Binário"
   ]
  },
  {
   "cell_type": "code",
   "execution_count": 22,
   "metadata": {},
   "outputs": [
    {
     "name": "stdout",
     "output_type": "stream",
     "text": [
      "0x18a\n",
      "0xd9\n",
      "0b100011110\n",
      "0b110000110\n"
     ]
    }
   ],
   "source": [
    "print(hex(394))\n",
    "print(hex(217))\n",
    "print(bin(286))\n",
    "print(bin(390))"
   ]
  },
  {
   "cell_type": "markdown",
   "metadata": {},
   "source": [
    "### Funções abs, round e pow"
   ]
  },
  {
   "cell_type": "code",
   "execution_count": 24,
   "metadata": {},
   "outputs": [
    {
     "name": "stdout",
     "output_type": "stream",
     "text": [
      "8\n",
      "8\n",
      "3.14\n",
      "16\n",
      "125\n"
     ]
    }
   ],
   "source": [
    "print(abs(-8))                  # Retorna o valor absoluto\n",
    "print(abs(8))                   # Retorna o valor absoluto\n",
    "print(round(3.14151922, 2))     # Retorna o valor com duas casas decimais\n",
    "print(pow(4,2))                 # Potência\n",
    "print(pow(5,3))                 # Potência"
   ]
  }
 ],
 "metadata": {
  "anaconda-cloud": {},
  "kernelspec": {
   "display_name": "Python 3 (ipykernel)",
   "language": "python",
   "name": "python3"
  },
  "language_info": {
   "codemirror_mode": {
    "name": "ipython",
    "version": 3
   },
   "file_extension": ".py",
   "mimetype": "text/x-python",
   "name": "python",
   "nbconvert_exporter": "python",
   "pygments_lexer": "ipython3",
   "version": "3.9.13"
  }
 },
 "nbformat": 4,
 "nbformat_minor": 1
}
