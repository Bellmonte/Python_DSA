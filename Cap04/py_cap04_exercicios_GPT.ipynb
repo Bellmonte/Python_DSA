{
 "cells": [
  {
   "cell_type": "markdown",
   "metadata": {},
   "source": [
    "## <font color='orange'>Capítulo 4 - Exercícios GPT</font>"
   ]
  },
  {
   "cell_type": "code",
   "execution_count": 1,
   "metadata": {},
   "outputs": [
    {
     "name": "stdout",
     "output_type": "stream",
     "text": [
      "Versão da Linguagem Python Usada Neste Jupyter Notebook: 3.8.8\n"
     ]
    }
   ],
   "source": [
    "# Versão da Linguagem Python\n",
    "from platform import python_version\n",
    "print('Versão da Linguagem Python Usada Neste Jupyter Notebook:', python_version())"
   ]
  },
  {
   "cell_type": "markdown",
   "metadata": {},
   "source": [
    "### Exercícios de Números e Variáveis:\n",
    "\n",
    "1. Crie uma variável chamada `numero` e atribua a ela um valor inteiro.\n",
    "2. Crie uma variável chamada `decimal` e atribua a ela um valor decimal.\n",
    "3. Calcule a soma de `numero` e `decimal` e armazene o resultado em uma variável chamada `soma`.\n",
    "4. Converta `soma` para uma string e atribua a uma variável chamada `soma_str`."
   ]
  },
  {
   "cell_type": "code",
   "execution_count": 12,
   "metadata": {},
   "outputs": [
    {
     "name": "stdout",
     "output_type": "stream",
     "text": [
      "15.5\n"
     ]
    },
    {
     "data": {
      "text/plain": [
       "str"
      ]
     },
     "execution_count": 12,
     "metadata": {},
     "output_type": "execute_result"
    }
   ],
   "source": [
    "numero = 10\n",
    "decimal = 5.5\n",
    "\n",
    "soma = numero + decimal\n",
    "\n",
    "soma_str = str(soma)\n",
    "print(soma_str)\n",
    "type(soma_str)"
   ]
  },
  {
   "cell_type": "markdown",
   "metadata": {},
   "source": [
    "### Exercícios de Strings:\n",
    "\n",
    "5. Crie uma string com seu nome e outra com seu sobrenome. Concatene-as em uma terceira variável chamada `nome_completo`.\n",
    "6. Use indexação para imprimir o primeiro caractere de `nome_completo`.\n",
    "7. Imprima os últimos dois caracteres de `nome_completo`.\n",
    "8. Substitua um caractere de `nome_completo` por um símbolo de sua escolha."
   ]
  },
  {
   "cell_type": "code",
   "execution_count": 16,
   "metadata": {},
   "outputs": [
    {
     "name": "stdout",
     "output_type": "stream",
     "text": [
      "Matheus Belmonte\n",
      "M\n",
      "te\n",
      "Math&us B&lmont&\n"
     ]
    }
   ],
   "source": [
    "nome = 'Matheus'\n",
    "sobrenome = 'Belmonte'\n",
    "\n",
    "nome_completo = nome + ' ' + sobrenome\n",
    "print(nome_completo)\n",
    "\n",
    "primeiro_caractere = nome_completo[0]\n",
    "print(primeiro_caractere)\n",
    "\n",
    "ultimos_caracteres = nome_completo[-2:]\n",
    "print(ultimos_caracteres)\n",
    "\n",
    "nome_completo = nome_completo.replace(\"e\", \"&\")\n",
    "print(nome_completo)\n",
    "\n"
   ]
  },
  {
   "cell_type": "markdown",
   "metadata": {},
   "source": [
    "### Exercícios de Listas:\n",
    "\n",
    "9. Crie uma lista chamada `lista_numeros` com 5 números inteiros.\n",
    "10. Adicione um número ao final de `lista_numeros`.\n",
    "11. Remova o terceiro elemento de `lista_numeros`.\n",
    "12. Imprima o comprimento de `lista_numeros`.\n",
    "13. Crie uma nova lista chamada `lista_frutas` com três frutas.\n",
    "14. Concatene as listas `lista_numeros` e `lista_frutas` em uma lista chamada `lista_total`.\n"
   ]
  },
  {
   "cell_type": "code",
   "execution_count": 18,
   "metadata": {},
   "outputs": [
    {
     "name": "stdout",
     "output_type": "stream",
     "text": [
      "[1, 2, 4, 5, 6, 'Maçã', 'Banana', 'Morango']\n"
     ]
    }
   ],
   "source": [
    "lista_numeros = list(range(1,6))\n",
    "lista_numeros.append(6)\n",
    "del lista_numeros[2]\n",
    "comprimento_lista = len(lista_numeros)\n",
    "lista_frutas = [\"Maçã\", \"Banana\", \"Morango\"]\n",
    "lista_total = lista_numeros + lista_frutas\n",
    "\n",
    "print(lista_total)"
   ]
  },
  {
   "cell_type": "markdown",
   "metadata": {},
   "source": [
    "### Exercícios de Tuplas:\n",
    "\n",
    "15. Crie uma tupla chamada `tupla_numeros` com 4 números inteiros.\n",
    "16. Acesse o segundo elemento de `tupla_numeros`.\n",
    "17. Tente modificar um elemento de `tupla_numeros` e observe o que acontece.\n"
   ]
  },
  {
   "cell_type": "code",
   "execution_count": 23,
   "metadata": {},
   "outputs": [
    {
     "name": "stdout",
     "output_type": "stream",
     "text": [
      "20\n"
     ]
    }
   ],
   "source": [
    "tupla_numeros = (10, 20, 30, 40)\n",
    "print(tupla_numeros[1])\n",
    "# tupla_numeros[2] = 35  # Isso resultará em um erro, já que tuplas são imutáveis"
   ]
  },
  {
   "cell_type": "markdown",
   "metadata": {},
   "source": [
    "### Exercícios de Dicionários:\n",
    "\n",
    "18. Crie um dicionário chamado `info_pessoa` com chaves \"nome\", \"idade\" e \"cidade\".\n",
    "19. Adicione valores correspondentes a essas chaves no dicionário.\n",
    "20. Imprima a idade armazenada no dicionário.\n",
    "21. Modifique a cidade no dicionário para uma cidade diferente.\n"
   ]
  },
  {
   "cell_type": "code",
   "execution_count": 24,
   "metadata": {},
   "outputs": [
    {
     "name": "stdout",
     "output_type": "stream",
     "text": [
      "27\n",
      "{'nome': 'Matheus', 'idade': 27, 'cidade': 'Porto Alegre'}\n"
     ]
    }
   ],
   "source": [
    "info_pessoa = {\"nome\": \"Matheus\", \"idade\": 27, \"cidade\": \"canoas\"}\n",
    "print(info_pessoa[\"idade\"])\n",
    "info_pessoa[\"cidade\"] = \"Porto Alegre\"\n",
    "print(info_pessoa)"
   ]
  }
 ],
 "metadata": {
  "kernelspec": {
   "display_name": "Python 3 (ipykernel)",
   "language": "python",
   "name": "python3"
  },
  "language_info": {
   "codemirror_mode": {
    "name": "ipython",
    "version": 3
   },
   "file_extension": ".py",
   "mimetype": "text/x-python",
   "name": "python",
   "nbconvert_exporter": "python",
   "pygments_lexer": "ipython3",
   "version": "3.9.13"
  }
 },
 "nbformat": 4,
 "nbformat_minor": 1
}
